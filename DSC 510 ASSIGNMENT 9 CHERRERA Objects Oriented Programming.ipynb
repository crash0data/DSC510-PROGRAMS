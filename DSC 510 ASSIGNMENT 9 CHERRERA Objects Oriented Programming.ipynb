{
 "cells": [
  {
   "cell_type": "markdown",
   "metadata": {},
   "source": [
    "# Assignment 5 - Functions\n",
    "\n",
    "## Instructions\n",
    "\n",
    "In this assignment, we will continue parsing the `avengers.csv` dataset by implementing functions. As a first step, copy the `avengers_utf8.csv` file from the previous project into your working folder. Open the file and assign the contents of the file to the variable the `lines` variable.  \n",
    "\n",
    "Follow the instructions for submitting a Jupyter Notebook assignment in the submitting assignments documentation. "
   ]
  },
  {
   "cell_type": "code",
   "execution_count": 1,
   "metadata": {},
   "outputs": [],
   "source": [
    "lines = open(\"avengers_utf8.csv\").readlines()"
   ]
  },
  {
   "cell_type": "markdown",
   "metadata": {},
   "source": [
    "## 1.  Line to Row Function (5 Points)\n",
    "\n",
    "To start, we select a single line from the `lines` list.  Select the 9th value in the list and assign it to the variable `example_line`.  This should be the line representing the record for Clint Barton.  We want to create a function called `line_to_row` that takes each line as input and converts it into a list of values. \n",
    "\n",
    "Create a simple function called `line_to_row` that takes one argument as an input and returns a list of values. Demonstrate its use on `example_line`. Assign the output of the function to `example_row`. "
   ]
  },
  {
   "cell_type": "code",
   "execution_count": 2,
   "metadata": {},
   "outputs": [
    {
     "name": "stdout",
     "output_type": "stream",
     "text": [
      "Line:\n",
      "http://marvel.wikia.com/Clint_Barton_(Earth-616),Clinton Francis Barton,1456,YES,MALE,,May-65,1965,50,Full,YES,YES,YES,YES,,,,,,,Dies in exploding Kree ship in Averngers Vol. 1 Issue 502. Brought back by Scarlet Witch. Dies again in House of M Vol 1 Issue 7. Is later brought back.\n",
      "\n",
      "Example row:\n",
      "['http://marvel.wikia.com/Clint_Barton_(Earth-616)', 'Clinton Francis Barton', '1456', 'YES', 'MALE', '', 'May-65', '1965', '50', 'Full', 'YES', 'YES', 'YES', 'YES', '', '', '', '', '', '', 'Dies in exploding Kree ship in Averngers Vol. 1 Issue 502. Brought back by Scarlet Witch. Dies again in House of M Vol 1 Issue 7. Is later brought back.\\n']\n"
     ]
    }
   ],
   "source": [
    "def line_to_row(line):\n",
    "    return line.split(\",\")\n",
    "\n",
    "example_line = lines[8]\n",
    "print(\"Line:\")\n",
    "print(example_line)\n",
    "example_row = line_to_row(example_line)\n",
    "print(\"Example row:\")\n",
    "print(example_row)"
   ]
  },
  {
   "cell_type": "markdown",
   "metadata": {},
   "source": [
    "## 2. Row to Record Function (5 Points)\n",
    "\n",
    "The next stage involves creating a function to convert a row to a dictionary record.  This function takes two arguments, the row, and the header values. \n",
    "\n",
    "Create a simple function called `row_to_record` that takes two arguments, `row` and `fields`. Return a dictionary where the fields provide the dictionary keys, and the row provides the values. Demonstrate the use of the function on `example_row` where the field names come from the first row of the input file.  Assign the output of the function to `example_record`.  "
   ]
  },
  {
   "cell_type": "code",
   "execution_count": 3,
   "metadata": {},
   "outputs": [
    {
     "name": "stdout",
     "output_type": "stream",
     "text": [
      "Fields:\n",
      "['URL', 'Name/Alias', 'Appearances', 'Current?', 'Gender', 'Probationary Introl', 'Full/Reserve Avengers Intro', 'Year', 'Years since joining', 'Honorary', 'Death1', 'Return1', 'Death2', 'Return2', 'Death3', 'Return3', 'Death4', 'Return4', 'Death5', 'Return5', 'Notes\\n']\n",
      "Example row:\n",
      "['http://marvel.wikia.com/Clint_Barton_(Earth-616)', 'Clinton Francis Barton', '1456', 'YES', 'MALE', '', 'May-65', '1965', '50', 'Full', 'YES', 'YES', 'YES', 'YES', '', '', '', '', '', '', 'Dies in exploding Kree ship in Averngers Vol. 1 Issue 502. Brought back by Scarlet Witch. Dies again in House of M Vol 1 Issue 7. Is later brought back.\\n']\n",
      "Example record:\n",
      "{'URL': 'http://marvel.wikia.com/Clint_Barton_(Earth-616)', 'Name/Alias': 'Clinton Francis Barton', 'Appearances': '1456', 'Current?': 'YES', 'Gender': 'MALE', 'Probationary Introl': '', 'Full/Reserve Avengers Intro': 'May-65', 'Year': '1965', 'Years since joining': '50', 'Honorary': 'Full', 'Death1': 'YES', 'Return1': 'YES', 'Death2': 'YES', 'Return2': 'YES', 'Death3': '', 'Return3': '', 'Death4': '', 'Return4': '', 'Death5': '', 'Return5': '', 'Notes\\n': 'Dies in exploding Kree ship in Averngers Vol. 1 Issue 502. Brought back by Scarlet Witch. Dies again in House of M Vol 1 Issue 7. Is later brought back.\\n'}\n"
     ]
    }
   ],
   "source": [
    "def row_to_record(row, fields):\n",
    "    result = {}\n",
    "    for i in range(len(row)):\n",
    "        result[fields[i]] = row[i]\n",
    "    return result\n",
    "\n",
    "fields = line_to_row(lines[0])\n",
    "print(\"Fields:\")\n",
    "print(fields)\n",
    "print(\"Example row:\")\n",
    "print(example_row)\n",
    "example_record = row_to_record(example_row, fields)\n",
    "print(\"Example record:\")\n",
    "print(example_record)"
   ]
  },
  {
   "cell_type": "markdown",
   "metadata": {},
   "source": [
    "## 3. Python friendly field names (6 Points)\n",
    "\n",
    "In the last example, we used the header names as they appear in the original CSV.  It contains names like `Current?`, `Full/Reserve Avengers Intro`, and `Notes\\n`. While these are acceptable names for Python dictionary keys, they are not valid names for Python identifiers. We want to change those names into Python-friendly names. \n",
    "\n",
    "a\\. Create a function called `make_nice_name` that takes in a name as an argument and returns a Python-friendly name that follows the following rules. \n",
    "\n",
    "1. Remove question marks\n",
    "2. Strip trailing newline characters\n",
    "3. Replace spaces and slashes with the underscore character\n",
    "4. Make sure the returned name is in all lower case letters\n",
    "\n",
    "Use this function to create a new list of field names and assign it to the variable `nice_fields`. \n",
    "\n",
    "b\\. Use the newly created `nice_fields` and the `row_to_record` function to create a `nice_example_record` containing the nice field names. "
   ]
  },
  {
   "cell_type": "code",
   "execution_count": 4,
   "metadata": {},
   "outputs": [
    {
     "name": "stdout",
     "output_type": "stream",
     "text": [
      "Fields:\n",
      "['URL', 'Name/Alias', 'Appearances', 'Current?', 'Gender', 'Probationary Introl', 'Full/Reserve Avengers Intro', 'Year', 'Years since joining', 'Honorary', 'Death1', 'Return1', 'Death2', 'Return2', 'Death3', 'Return3', 'Death4', 'Return4', 'Death5', 'Return5', 'Notes\\n']\n",
      "Nice Fields:\n",
      "['url', 'name/alias', 'appearances', 'current', 'gender', 'probationary_introl', 'full/reserve_avengers_intro', 'year', 'years_since_joining', 'honorary', 'death1', 'return1', 'death2', 'return2', 'death3', 'return3', 'death4', 'return4', 'death5', 'return5', 'notes']\n",
      "Nice Example Record:\n",
      "{'url': 'http://marvel.wikia.com/Clint_Barton_(Earth-616)', 'name/alias': 'Clinton Francis Barton', 'appearances': '1456', 'current': 'YES', 'gender': 'MALE', 'probationary_introl': '', 'full/reserve_avengers_intro': 'May-65', 'year': '1965', 'years_since_joining': '50', 'honorary': 'Full', 'death1': 'YES', 'return1': 'YES', 'death2': 'YES', 'return2': 'YES', 'death3': '', 'return3': '', 'death4': '', 'return4': '', 'death5': '', 'return5': '', 'notes': 'Dies in exploding Kree ship in Averngers Vol. 1 Issue 502. Brought back by Scarlet Witch. Dies again in House of M Vol 1 Issue 7. Is later brought back.\\n'}\n"
     ]
    }
   ],
   "source": [
    "def make_nice_name(name):\n",
    "    name = name.replace('?','')\n",
    "    name = name.rstrip('\\n')\n",
    "    name = name.replace(' ','_')\n",
    "    name = name.replace('-','_')\n",
    "    name = name.lower()\n",
    "    return name\n",
    "\n",
    "print(\"Fields:\")\n",
    "print(fields)\n",
    "nice_fields = [make_nice_name(name) for name in fields]\n",
    "print(\"Nice Fields:\")\n",
    "print(nice_fields)\n",
    "nice_example_record = row_to_record(example_row, nice_fields)\n",
    "print(\"Nice Example Record:\")\n",
    "print(nice_example_record)"
   ]
  },
  {
   "cell_type": "markdown",
   "metadata": {},
   "source": [
    "## 4. Conversion and cleaning functions (9 Points)\n",
    "\n",
    "The record values are still strings.  It is much easier if we work with native Python types. Additionally, the `notes` field contains a trailing newline that we would like to remove. You will use `nice_example_record` when testing these functions.\n",
    "\n",
    "a\\. Create a `to_int` function that takes in a single `value` as an argument and returns an integer version of that value.  Test it out on the integer fields of the input record. \n",
    "\n",
    "b\\. Create a `to_bool` function that takes in a single `value` as an argument and returns a boolean version of that value.  Test the function on various string based inputs including the empty string.  Test it out on the boolean fields (i.e., the ones containing YES/NO values). Make sure it returns `None` if the input is an empty string. \n",
    "\n",
    "c\\. Create a `clean_notes` function that takes in a single `value` as an argument that strips off the trailing newline characters. "
   ]
  },
  {
   "cell_type": "code",
   "execution_count": 5,
   "metadata": {},
   "outputs": [
    {
     "name": "stdout",
     "output_type": "stream",
     "text": [
      "Nice Example Record:\n",
      "{'url': 'http://marvel.wikia.com/Clint_Barton_(Earth-616)', 'name/alias': 'Clinton Francis Barton', 'appearances': '1456', 'current': 'YES', 'gender': 'MALE', 'probationary_introl': '', 'full/reserve_avengers_intro': 'May-65', 'year': '1965', 'years_since_joining': '50', 'honorary': 'Full', 'death1': 'YES', 'return1': 'YES', 'death2': 'YES', 'return2': 'YES', 'death3': '', 'return3': '', 'death4': '', 'return4': '', 'death5': '', 'return5': '', 'notes': 'Dies in exploding Kree ship in Averngers Vol. 1 Issue 502. Brought back by Scarlet Witch. Dies again in House of M Vol 1 Issue 7. Is later brought back.\\n'}\n",
      "Nice Example record (cleaned):\n",
      "{'url': 'http://marvel.wikia.com/Clint_Barton_(Earth-616)', 'name/alias': 'Clinton Francis Barton', 'appearances': 1456, 'current': True, 'gender': 'MALE', 'probationary_introl': '', 'full/reserve_avengers_intro': 'May-65', 'year': 1965, 'years_since_joining': 50, 'honorary': 'Full', 'death1': True, 'return1': True, 'death2': True, 'return2': True, 'death3': '', 'return3': '', 'death4': '', 'return4': '', 'death5': '', 'return5': '', 'notes': 'Dies in exploding Kree ship in Averngers Vol. 1 Issue 502. Brought back by Scarlet Witch. Dies again in House of M Vol 1 Issue 7. Is later brought back.'}\n"
     ]
    }
   ],
   "source": [
    "def to_int(value):\n",
    "    return int(value)\n",
    "\n",
    "def to_bool(value):\n",
    "    if value == \"YES\":\n",
    "        return True\n",
    "    elif value == \"NO\":\n",
    "        return False\n",
    "\n",
    "def clean_notes(value):\n",
    "    return value.rstrip('\\n')\n",
    "\n",
    "print(\"Nice Example Record:\")\n",
    "print(nice_example_record)\n",
    "nice_example_record['appearances'] = to_int(nice_example_record['appearances'])\n",
    "nice_example_record['current'] = to_bool(nice_example_record['current'])\n",
    "nice_example_record['year'] = to_int(nice_example_record['year'])\n",
    "nice_example_record['years_since_joining'] = to_int(nice_example_record['years_since_joining'])\n",
    "nice_example_record['death1'] = to_bool(nice_example_record['death1'])\n",
    "nice_example_record['return1'] = to_bool(nice_example_record['return1'])\n",
    "nice_example_record['death2'] = to_bool(nice_example_record['death2'])\n",
    "nice_example_record['return2'] = to_bool(nice_example_record['return2'])\n",
    "nice_example_record['notes'] = clean_notes(nice_example_record['notes'])\n",
    "print(\"Nice Example record (cleaned):\")\n",
    "print(nice_example_record)"
   ]
  },
  {
   "cell_type": "markdown",
   "metadata": {},
   "source": [
    "## 5.  Transform record function (10 Points)\n",
    "\n",
    "Create a function called `transform_record` that takes in a record dictionary and returns a transformed record according to the following rules. \n",
    "\n",
    "1.  Convert the `year` and `appearances` fields to integer values \n",
    "2.  If the field starts with `death` or `return`, convert it to a boolean value\n",
    "3.  Clean the `notes` fields by stripping the newline\n",
    "4.  Calculate a new `years_since_joining` field by calculating the difference between the `year` field and the current year.  For now, feel free to hardcode the current year.  (i.e. current_year=20xx). \n",
    "\n",
    "Test the `transform_record` function on `nice_example_record` and assign the result to `transformed_record`. "
   ]
  },
  {
   "cell_type": "code",
   "execution_count": 9,
   "metadata": {},
   "outputs": [
    {
     "name": "stdout",
     "output_type": "stream",
     "text": [
      "Nice Example Record:\n",
      "{'url': 'http://marvel.wikia.com/Clint_Barton_(Earth-616)', 'name/alias': 'Clinton Francis Barton', 'appearances': '1456', 'current': 'YES', 'gender': 'MALE', 'probationary_introl': '', 'full/reserve_avengers_intro': 'May-65', 'year': '1965', 'years_since_joining': '50', 'honorary': 'Full', 'death1': 'YES', 'return1': 'YES', 'death2': 'YES', 'return2': 'YES', 'death3': '', 'return3': '', 'death4': '', 'return4': '', 'death5': '', 'return5': '', 'notes': 'Dies in exploding Kree ship in Averngers Vol. 1 Issue 502. Brought back by Scarlet Witch. Dies again in House of M Vol 1 Issue 7. Is later brought back.\\n'}\n",
      "Transformed Record:\n",
      "{'url': 'http://marvel.wikia.com/Clint_Barton_(Earth-616)', 'name/alias': 'Clinton Francis Barton', 'appearances': 1456, 'current': True, 'gender': 'MALE', 'probationary_introl': '', 'full/reserve_avengers_intro': 'May-65', 'year': 1965, 'years_since_joining': 53, 'honorary': 'Full', 'death1': True, 'return1': True, 'death2': True, 'return2': True, 'death3': None, 'return3': None, 'death4': None, 'return4': None, 'death5': None, 'return5': None, 'notes': 'Dies in exploding Kree ship in Averngers Vol. 1 Issue 502. Brought back by Scarlet Witch. Dies again in House of M Vol 1 Issue 7. Is later brought back.'}\n"
     ]
    }
   ],
   "source": [
    "def transform_record(record):\n",
    "    transformed_record = {}\n",
    "    for field in record:\n",
    "        if field in ['appearances', 'year', 'years_since_joining']:\n",
    "            transformed_record[field] = to_int(record[field])\n",
    "        elif field in ['current'] or field[0:5] == 'death' or field[0:6] == 'return':\n",
    "            transformed_record[field] = to_bool(record[field])\n",
    "        elif field == 'notes':\n",
    "            transformed_record[field] = clean_notes(record[field])\n",
    "        else:\n",
    "            transformed_record[field] = record[field]\n",
    "    current_year = 2018\n",
    "    transformed_record['years_since_joining'] = 2018 - transformed_record['year']\n",
    "    return transformed_record\n",
    "\n",
    "nice_example_record = row_to_record(example_row, nice_fields)\n",
    "print(\"Nice Example Record:\")\n",
    "print(nice_example_record)\n",
    "transformed_record = transform_record(nice_example_record)\n",
    "print(\"Transformed Record:\")\n",
    "print(transformed_record)"
   ]
  },
  {
   "cell_type": "markdown",
   "metadata": {},
   "source": [
    "## 6. Inline record transformation (5 Points)\n",
    "\n",
    "Create a new function called `transform_record_inline` .  It takes the same argument as the `transform_record` function but does not return a new record.  Instead, it changes the input `record` dictionary.  Feel free to reuse/repurpose the `transform_record` code as you see fit. Demonstrate this function on `nice_example_record`. "
   ]
  },
  {
   "cell_type": "code",
   "execution_count": 8,
   "metadata": {},
   "outputs": [
    {
     "name": "stdout",
     "output_type": "stream",
     "text": [
      "Nice Example Record:\n",
      "{'url': 'http://marvel.wikia.com/Clint_Barton_(Earth-616)', 'name/alias': 'Clinton Francis Barton', 'appearances': '1456', 'current': 'YES', 'gender': 'MALE', 'probationary_introl': '', 'full/reserve_avengers_intro': 'May-65', 'year': '1965', 'years_since_joining': '50', 'honorary': 'Full', 'death1': 'YES', 'return1': 'YES', 'death2': 'YES', 'return2': 'YES', 'death3': '', 'return3': '', 'death4': '', 'return4': '', 'death5': '', 'return5': '', 'notes': 'Dies in exploding Kree ship in Averngers Vol. 1 Issue 502. Brought back by Scarlet Witch. Dies again in House of M Vol 1 Issue 7. Is later brought back.\\n'}\n",
      "Transformed Record:\n",
      "{'url': 'http://marvel.wikia.com/Clint_Barton_(Earth-616)', 'name/alias': 'Clinton Francis Barton', 'appearances': 1456, 'current': True, 'gender': 'MALE', 'probationary_introl': '', 'full/reserve_avengers_intro': 'May-65', 'year': 1965, 'years_since_joining': 53, 'honorary': 'Full', 'death1': True, 'return1': True, 'death2': True, 'return2': True, 'death3': None, 'return3': None, 'death4': None, 'return4': None, 'death5': None, 'return5': None, 'notes': 'Dies in exploding Kree ship in Averngers Vol. 1 Issue 502. Brought back by Scarlet Witch. Dies again in House of M Vol 1 Issue 7. Is later brought back.'}\n"
     ]
    }
   ],
   "source": [
    "def transform_record_inline(record):\n",
    "    for field in record:\n",
    "        if field in ['appearances', 'year', 'years_since_joining']:\n",
    "            record[field] = to_int(record[field])\n",
    "        elif field in ['current'] or field[0:5] == 'death' or field[0:6] == 'return':\n",
    "            record[field] = to_bool(record[field])\n",
    "        elif field == 'notes':\n",
    "            record[field] = clean_notes(record[field])\n",
    "    current_year = 2018\n",
    "    record['years_since_joining'] = 2018 - record['year']\n",
    "\n",
    "nice_example_record = row_to_record(example_row, nice_fields)\n",
    "print(\"Nice Example Record:\")\n",
    "print(nice_example_record)\n",
    "transform_record_inline(nice_example_record)\n",
    "print(\"Transformed Record:\")\n",
    "print(nice_example_record)"
   ]
  },
  {
   "cell_type": "code",
   "execution_count": null,
   "metadata": {
    "collapsed": true
   },
   "outputs": [],
   "source": []
  }
 ],
 "metadata": {
  "kernelspec": {
   "display_name": "Python 3",
   "language": "python",
   "name": "python3"
  },
  "language_info": {
   "codemirror_mode": {
    "name": "ipython",
    "version": 3
   },
   "file_extension": ".py",
   "mimetype": "text/x-python",
   "name": "python",
   "nbconvert_exporter": "python",
   "pygments_lexer": "ipython3",
   "version": "3.6.5"
  }
 },
 "nbformat": 4,
 "nbformat_minor": 2
}
