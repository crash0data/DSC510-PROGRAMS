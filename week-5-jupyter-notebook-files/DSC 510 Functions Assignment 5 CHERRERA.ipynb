{
 "cells": [
  {
   "cell_type": "markdown",
   "metadata": {},
   "source": [
    "# Assignment 5 - Functions\n",
    "\n",
    "## Instructions\n",
    "\n",
    "In this assignment, we will continue parsing the `avengers.csv` dataset by implementing functions. As a first step, copy the `avengers_utf8.csv` file from the previous project into your working folder. Open the file and assign the contents of the file to the variable the `lines` variable.  \n",
    "\n",
    "Follow the instructions for submitting a Jupyter Notebook assignment in the submitting assignments documentation. "
   ]
  },
  {
   "cell_type": "code",
   "execution_count": 8,
   "metadata": {},
   "outputs": [
    {
     "ename": "FileNotFoundError",
     "evalue": "[Errno 2] No such file or directory: 'avengers_utf.csv'",
     "output_type": "error",
     "traceback": [
      "\u001b[0;31m---------------------------------------------------------------------------\u001b[0m",
      "\u001b[0;31mFileNotFoundError\u001b[0m                         Traceback (most recent call last)",
      "\u001b[0;32m<ipython-input-8-1e7d3f363072>\u001b[0m in \u001b[0;36m<module>\u001b[0;34m()\u001b[0m\n\u001b[0;32m----> 1\u001b[0;31m \u001b[0;32mwith\u001b[0m \u001b[0mopen\u001b[0m\u001b[0;34m(\u001b[0m\u001b[0;34m'avengers_utf.csv'\u001b[0m\u001b[0;34m)\u001b[0m \u001b[0;32mas\u001b[0m \u001b[0mf\u001b[0m\u001b[0;34m:\u001b[0m\u001b[0;34m\u001b[0m\u001b[0m\n\u001b[0m\u001b[1;32m      2\u001b[0m     \u001b[0mlines\u001b[0m \u001b[0;34m=\u001b[0m \u001b[0mf\u001b[0m\u001b[0;34m.\u001b[0m\u001b[0mreadlines\u001b[0m\u001b[0;34m(\u001b[0m\u001b[0;34m)\u001b[0m\u001b[0;34m\u001b[0m\u001b[0m\n",
      "\u001b[0;31mFileNotFoundError\u001b[0m: [Errno 2] No such file or directory: 'avengers_utf.csv'"
     ]
    }
   ],
   "source": [
    "with open('avengers_utf.csv') as f:\n",
    "    lines = f.readlines()"
   ]
  },
  {
   "cell_type": "markdown",
   "metadata": {},
   "source": [
    "## 1.  Line to Row Function (5 Points)\n",
    "\n",
    "To start, we select a single line from the `lines` list.  Select the 9th value in the list and assign it to the variable `example_line`.  This should be the line representing the record for Clint Barton.  We want to create a function called `line_to_row` that takes each line as input and converts it into a list of values. \n",
    "\n",
    "Create a simple function called `line_to_row` that takes one argument as an input and returns a list of values. Demonstrate its use on `example_line`. Assign the output of the function to `example_row`. "
   ]
  },
  {
   "cell_type": "code",
   "execution_count": 7,
   "metadata": {},
   "outputs": [
    {
     "ename": "NameError",
     "evalue": "name 'lines' is not defined",
     "output_type": "error",
     "traceback": [
      "\u001b[0;31m---------------------------------------------------------------------------\u001b[0m",
      "\u001b[0;31mNameError\u001b[0m                                 Traceback (most recent call last)",
      "\u001b[0;32m<ipython-input-7-f941ba253f86>\u001b[0m in \u001b[0;36m<module>\u001b[0;34m()\u001b[0m\n\u001b[0;32m----> 1\u001b[0;31m \u001b[0mexample_line\u001b[0m \u001b[0;34m=\u001b[0m \u001b[0mlines\u001b[0m\u001b[0;34m[\u001b[0m\u001b[0;36m8\u001b[0m\u001b[0;34m]\u001b[0m\u001b[0;34m\u001b[0m\u001b[0m\n\u001b[0m\u001b[1;32m      2\u001b[0m \u001b[0;34m\u001b[0m\u001b[0m\n\u001b[1;32m      3\u001b[0m \u001b[0;32mdef\u001b[0m \u001b[0mline_to_row\u001b[0m\u001b[0;34m(\u001b[0m\u001b[0mline\u001b[0m\u001b[0;34m)\u001b[0m\u001b[0;34m:\u001b[0m\u001b[0;34m\u001b[0m\u001b[0m\n\u001b[1;32m      4\u001b[0m     \u001b[0;32mreturn\u001b[0m \u001b[0mline\u001b[0m\u001b[0;34m.\u001b[0m\u001b[0msplit\u001b[0m\u001b[0;34m(\u001b[0m\u001b[0;34m','\u001b[0m\u001b[0;34m)\u001b[0m\u001b[0;34m\u001b[0m\u001b[0m\n\u001b[1;32m      5\u001b[0m \u001b[0;34m\u001b[0m\u001b[0m\n",
      "\u001b[0;31mNameError\u001b[0m: name 'lines' is not defined"
     ]
    }
   ],
   "source": [
    "example_line = lines[8]\n",
    "\n",
    "def line_to_row(line):\n",
    "    return line.split(',')\n",
    "\n",
    "example_row = line_to_row(example_line)\n",
    "print(example_row)"
   ]
  },
  {
   "cell_type": "markdown",
   "metadata": {},
   "source": [
    "## 2. Row to Record Function (5 Points)\n",
    "\n",
    "The next stage involves creating a function to convert a row to a dictionary record.  This function takes two arguments, the row, and the header values. \n",
    "\n",
    "Create a simple function called `row_to_record` that takes two arguments, `row` and `fields`. Return a dictionary where the fields provide the dictionary keys, and the row provides the values. Demonstrate the use of the function on `example_row` where the field names come from the first row of the input file.  Assign the output of the function to `example_record`.  "
   ]
  },
  {
   "cell_type": "markdown",
   "metadata": {},
   "source": [
    "## 3. Python friendly field names (6 Points)\n",
    "\n",
    "In the last example, we used the header names as they appear in the original CSV.  It contains names like `Current?`, `Full/Reserve Avengers Intro`, and `Notes\\n`. While these are acceptable names for Python dictionary keys, they are not valid names for Python identifiers. We want to change those names into Python-friendly names. \n",
    "\n",
    "a\\. Create a function called `make_nice_name` that takes in a name as an argument and returns a Python-friendly name that follows the following rules. \n",
    "\n",
    "1. Remove question marks\n",
    "2. Strip trailing newline characters\n",
    "3. Replace spaces and slashes with the underscore character\n",
    "4. Make sure the returned name is in all lower case letters\n",
    "\n",
    "Use this function to create a new list of field names and assign it to the variable `nice_fields`. \n",
    "\n",
    "b\\. Use the newly created `nice_fields` and the `row_to_record` function to create a `nice_example_record` containing the nice field names. "
   ]
  },
  {
   "cell_type": "markdown",
   "metadata": {},
   "source": [
    "## 4. Conversion and cleaning functions (9 Points)\n",
    "\n",
    "The record values are still strings.  It is much easier if we work with native Python types. Additionally, the `notes` field contains a trailing newline that we would like to remove. You will use `nice_example_record` when testing these functions.\n",
    "\n",
    "a\\. Create a `to_int` function that takes in a single `value` as an argument and returns an integer version of that value.  Test it out on the integer fields of the input record. \n",
    "\n",
    "b\\. Create a `to_bool` function that takes in a single `value` as an argument and returns a boolean version of that value.  Test the function on various string based inputs including the empty string.  Test it out on the boolean fields (i.e., the ones containing YES/NO values). Make sure it returns `None` if the input is an empty string. \n",
    "\n",
    "c\\. Create a `clean_notes` function that takes in a single `value` as an argument that strips off the trailing newline characters. "
   ]
  },
  {
   "cell_type": "markdown",
   "metadata": {},
   "source": [
    "## 5.  Transform record function (10 Points)\n",
    "\n",
    "Create a function called `transform_record` that takes in a record dictionary and returns a transformed record according to the following rules. \n",
    "\n",
    "1.  Convert the `year` and `appearances` fields to integer values \n",
    "2.  If the field starts with `death` or `return`, convert it to a boolean value\n",
    "3.  Clean the `notes` fields by stripping the newline\n",
    "4.  Calculate a new `years_since_joining` field by calculating the difference between the `year` field and the current year.  For now, feel free to hardcode the current year.  (i.e. current_year=20xx). \n",
    "\n",
    "Test the `transform_record` function on `nice_example_record` and assign the result to `transformed_record`. "
   ]
  },
  {
   "cell_type": "markdown",
   "metadata": {},
   "source": [
    "## 6. Inline record transformation (5 Points)\n",
    "\n",
    "Create a new function called `transform_record_inline` .  It takes the same argument as the `transform_record` function but does not return a new record.  Instead, it changes the input `record` dictionary.  Feel free to reuse/repurpose the `transform_record` code as you see fit. Demonstrate this function on `nice_example_record`. "
   ]
  }
 ],
 "metadata": {
  "kernelspec": {
   "display_name": "Python 3",
   "language": "python",
   "name": "python3"
  },
  "language_info": {
   "codemirror_mode": {
    "name": "ipython",
    "version": 3
   },
   "file_extension": ".py",
   "mimetype": "text/x-python",
   "name": "python",
   "nbconvert_exporter": "python",
   "pygments_lexer": "ipython3",
   "version": "3.6.5"
  }
 },
 "nbformat": 4,
 "nbformat_minor": 2
}
