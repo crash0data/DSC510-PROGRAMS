{
 "cells": [
  {
   "cell_type": "markdown",
   "metadata": {},
   "source": [
    "# 3.2 Simple calculations (8 points)\n",
    "Perform the following tasks using Python within Jupyter notebook.\n",
    "1. Add two integers together\n",
    "2. Show how parenthesis changes the order of operations when using multiplication and addition together.\n",
    "3. Show how to square and cube numbers.\n",
    "4. Assign numbers to variables and then perform mathematical operations (e.g., add, subtract, multiply) using the variables.\n",
    "5. Set the variable pi = 3.14159265 and then round it to two decimal places.\n",
    "6. See what happens when you try to divide a number by 0.\n",
    "7. Add an integer and a floating point number. Is the result a floating point number or an integer?\n",
    "8. Compute the remainder of an odd number when divided by 2."
   ]
  },
  {
   "cell_type": "code",
   "execution_count": 1,
   "metadata": {},
   "outputs": [
    {
     "name": "stdout",
     "output_type": "stream",
     "text": [
      "10\n"
     ]
    }
   ],
   "source": [
    "#1 - Add two integers together\n",
    "print(5+5)\n"
   ]
  },
  {
   "cell_type": "code",
   "execution_count": 2,
   "metadata": {},
   "outputs": [
    {
     "name": "stdout",
     "output_type": "stream",
     "text": [
      "8\n",
      "6\n"
     ]
    }
   ],
   "source": [
    "#2 - Show how parenthesis changes the order of operations when using multiplication and addition together.\n",
    "print((2+2)*2)\n",
    "print(2+2*2)"
   ]
  },
  {
   "cell_type": "code",
   "execution_count": 5,
   "metadata": {},
   "outputs": [
    {
     "name": "stdout",
     "output_type": "stream",
     "text": [
      "4\n",
      "125\n"
     ]
    }
   ],
   "source": [
    "#3 - Show how to square and cube numbers.\n",
    "print(2**2)\n",
    "print(5**3)"
   ]
  },
  {
   "cell_type": "code",
   "execution_count": 7,
   "metadata": {},
   "outputs": [
    {
     "name": "stdout",
     "output_type": "stream",
     "text": [
      "8\n",
      "12\n",
      "3.0\n"
     ]
    }
   ],
   "source": [
    "#4 - Assign numbers to variables and then perform mathematical operations (e.g., add, subtract, multiply) using the variables.\n",
    "x=6\n",
    "y=2\n",
    "\n",
    "print(x+y)\n",
    "print(x*y)\n",
    "print(x/y)\n"
   ]
  },
  {
   "cell_type": "code",
   "execution_count": 25,
   "metadata": {},
   "outputs": [
    {
     "name": "stdout",
     "output_type": "stream",
     "text": [
      "<class 'float'>\n"
     ]
    },
    {
     "data": {
      "text/plain": [
       "3.14"
      ]
     },
     "execution_count": 25,
     "metadata": {},
     "output_type": "execute_result"
    }
   ],
   "source": [
    "#5 - Set the variable pi = 3.14159265 and then round it to two decimal places.\n",
    "pi=3.14159265\n",
    "print(type(pi))\n",
    "round(pi,2) #round function will round off a floating point number, by default it rounds to zero decimal places\n"
   ]
  },
  {
   "cell_type": "code",
   "execution_count": 27,
   "metadata": {},
   "outputs": [
    {
     "name": "stdout",
     "output_type": "stream",
     "text": [
      "0.0\n"
     ]
    },
    {
     "ename": "ZeroDivisionError",
     "evalue": "division by zero",
     "output_type": "error",
     "traceback": [
      "\u001b[0;31m---------------------------------------------------------------------------\u001b[0m",
      "\u001b[0;31mZeroDivisionError\u001b[0m                         Traceback (most recent call last)",
      "\u001b[0;32m<ipython-input-27-b9190e3e33f4>\u001b[0m in \u001b[0;36m<module>\u001b[0;34m()\u001b[0m\n\u001b[1;32m      1\u001b[0m \u001b[0;31m#6 - See what happens when you try to divide a number by 0.\u001b[0m\u001b[0;34m\u001b[0m\u001b[0;34m\u001b[0m\u001b[0m\n\u001b[1;32m      2\u001b[0m \u001b[0mprint\u001b[0m\u001b[0;34m(\u001b[0m\u001b[0;36m0\u001b[0m\u001b[0;34m/\u001b[0m\u001b[0;36m4\u001b[0m\u001b[0;34m)\u001b[0m\u001b[0;34m\u001b[0m\u001b[0m\n\u001b[0;32m----> 3\u001b[0;31m \u001b[0mprint\u001b[0m\u001b[0;34m(\u001b[0m\u001b[0;36m1\u001b[0m\u001b[0;34m/\u001b[0m\u001b[0;36m0\u001b[0m\u001b[0;34m)\u001b[0m\u001b[0;34m\u001b[0m\u001b[0m\n\u001b[0m",
      "\u001b[0;31mZeroDivisionError\u001b[0m: division by zero"
     ]
    }
   ],
   "source": [
    "#6 - See what happens when you try to divide a number by 0.\n",
    "print(0/4)\n",
    "print(1/0)"
   ]
  },
  {
   "cell_type": "code",
   "execution_count": 29,
   "metadata": {},
   "outputs": [
    {
     "name": "stdout",
     "output_type": "stream",
     "text": [
      "7.22\n",
      "<class 'float'>\n"
     ]
    }
   ],
   "source": [
    "#7 - Add an integer and a floating point number. Is the result a floating point number or an integer?\n",
    "print(2+5.22)\n",
    "print(type(2+5.22))"
   ]
  },
  {
   "cell_type": "code",
   "execution_count": 30,
   "metadata": {},
   "outputs": [
    {
     "name": "stdout",
     "output_type": "stream",
     "text": [
      "4.5\n"
     ]
    }
   ],
   "source": [
    "#8 - Compute the remainder of an odd number when divided by 2.\n",
    "print(9/2)\n"
   ]
  },
  {
   "cell_type": "markdown",
   "metadata": {},
   "source": [
    "3.4 Working with strings (7 points)\n",
    "1. Enter Hello World! as a string\n",
    "2. Assign your first name to the variable first_name and your last name to the variable last_name.\n",
    "3. Calculate the number of characters in your first name.\n",
    "4. Using string indexing, get the first letter of your first name.\n",
    "5. Using string indexing, get the last letter in your last name.\n",
    "6. See what happens when you add first_name and last_name.\n",
    "7. See what happens when you multiply your first_name by an integer between 1 and 5."
   ]
  },
  {
   "cell_type": "code",
   "execution_count": 33,
   "metadata": {},
   "outputs": [
    {
     "name": "stdout",
     "output_type": "stream",
     "text": [
      "Hello World\n",
      "<class 'str'>\n"
     ]
    }
   ],
   "source": [
    "#1 Enter Hello World! as a string\n",
    "string= 'Hello World'\n",
    "print('Hello World')\n",
    "print(type('Hello World')) #identify the comment type"
   ]
  },
  {
   "cell_type": "code",
   "execution_count": 13,
   "metadata": {},
   "outputs": [
    {
     "name": "stdout",
     "output_type": "stream",
     "text": [
      "Cindy Herrera\n"
     ]
    }
   ],
   "source": [
    "#2 Assign your first name to the variable first_name and your last name to the variable last_name.\n",
    "first_name='Cindy'\n",
    "last_name='Herrera'\n",
    "print(first_name , last_name) \n"
   ]
  },
  {
   "cell_type": "code",
   "execution_count": 3,
   "metadata": {},
   "outputs": [
    {
     "name": "stdout",
     "output_type": "stream",
     "text": [
      "5\n"
     ]
    }
   ],
   "source": [
    "#3 Calculate the number of characters in your first name.\n",
    "print(len('Cindy'))"
   ]
  },
  {
   "cell_type": "code",
   "execution_count": 6,
   "metadata": {},
   "outputs": [
    {
     "name": "stdout",
     "output_type": "stream",
     "text": [
      "C\n"
     ]
    }
   ],
   "source": [
    "#4 Using string indexing, get the first letter of your first name.\n",
    "first_name= 'Cindy'\n",
    "print(first_name[0])"
   ]
  },
  {
   "cell_type": "code",
   "execution_count": 8,
   "metadata": {},
   "outputs": [
    {
     "name": "stdout",
     "output_type": "stream",
     "text": [
      "a\n"
     ]
    }
   ],
   "source": [
    "#5 Using string indexing, get the last letter in your last name.\n",
    "last_name= 'Herrera'\n",
    "print(last_name[6])"
   ]
  },
  {
   "cell_type": "code",
   "execution_count": 10,
   "metadata": {},
   "outputs": [
    {
     "name": "stdout",
     "output_type": "stream",
     "text": [
      "first_namelast_name\n",
      "first_name last_name\n"
     ]
    }
   ],
   "source": [
    "#6 See what happens when you add first_name and last_name.\n",
    "print('first_name' + 'last_name') #adding the bothe values combines them with no space between values\n",
    "print('first_name' , 'last_name') #adding a comma will provide a space between values"
   ]
  },
  {
   "cell_type": "code",
   "execution_count": 11,
   "metadata": {},
   "outputs": [
    {
     "name": "stdout",
     "output_type": "stream",
     "text": [
      "first_namefirst_namefirst_namefirst_namefirst_name\n"
     ]
    }
   ],
   "source": [
    "#7 See what happens when you multiply your first_name by an integer between 1 and 5.\n",
    "print('first_name'* 5) #multiply the first name tells it to duplicate it 5x's with no space between valuess"
   ]
  },
  {
   "cell_type": "markdown",
   "metadata": {},
   "source": [
    "3.5 Working with lists (5 points)\n",
    "1. Create a list of numbers from 1 to 5 and assign it to the variable L.\n",
    "2. Using list indexing, select the second item in the list.\n",
    "3. Using slices, get a list containing only the 2nd, 3rd, and 4th numbers.\n",
    "4. Append a 6 to the end of the list.\n",
    "5. Using slices, replace the numbers 2 and 3 with 8 and 9."
   ]
  },
  {
   "cell_type": "code",
   "execution_count": 15,
   "metadata": {},
   "outputs": [
    {
     "name": "stdout",
     "output_type": "stream",
     "text": [
      "[0, 1, 2, 3, 4, 5]\n"
     ]
    }
   ],
   "source": [
    "#1 - Create a list of numbers from 1 to 5 and assign it to the variable L.\n",
    "r = range(6)\n",
    "l = [*r] \n",
    "print (l:\\)"
   ]
  },
  {
   "cell_type": "code",
   "execution_count": 50,
   "metadata": {},
   "outputs": [
    {
     "name": "stdout",
     "output_type": "stream",
     "text": [
      "[1]\n"
     ]
    }
   ],
   "source": [
    "#2 - Using list indexing, select the second item in the list.\n",
    "list = [0,1,2,3,4,5] \n",
    "print (list[1:2])  #fetches items at offsets 1 up to but not including 2"
   ]
  },
  {
   "cell_type": "code",
   "execution_count": 55,
   "metadata": {},
   "outputs": [
    {
     "name": "stdout",
     "output_type": "stream",
     "text": [
      "[1, 2, 3]\n"
     ]
    }
   ],
   "source": [
    "#3 - Using slices, get a list containing only the 2nd, 3rd, and 4th numbers.\n",
    "list = [0,1,2,3,4,5] \n",
    "print (list[1:4])  #fetches items at offsets 1 up to but not past the 4th"
   ]
  },
  {
   "cell_type": "code",
   "execution_count": 56,
   "metadata": {},
   "outputs": [
    {
     "name": "stdout",
     "output_type": "stream",
     "text": [
      "[0, 1, 2, 3, 4, 5, 6]\n"
     ]
    }
   ],
   "source": [
    "#4 - Append a 6 to the end of the list.\n",
    "list = [0,1,2,3,4,5]\n",
    "list.append(6) #add a number 6 to the end\n",
    "print (list)  "
   ]
  },
  {
   "cell_type": "code",
   "execution_count": 60,
   "metadata": {},
   "outputs": [
    {
     "name": "stdout",
     "output_type": "stream",
     "text": [
      "[0, 1, '8', '9', 4, 5]\n"
     ]
    }
   ],
   "source": [
    "#5 - Using slices, replace the numbers 2 and 3 with 8 and 9.\n",
    "list = [0,1,2,3,4,5]\n",
    "list[2:4] = ['8', '9'] #replace 2 and 3 with 8 and 9\n",
    "print (list)  "
   ]
  }
 ],
 "metadata": {
  "kernelspec": {
   "display_name": "Python 3",
   "language": "python",
   "name": "python3"
  },
  "language_info": {
   "codemirror_mode": {
    "name": "ipython",
    "version": 3
   },
   "file_extension": ".py",
   "mimetype": "text/x-python",
   "name": "python",
   "nbconvert_exporter": "python",
   "pygments_lexer": "ipython3",
   "version": "3.6.5"
  }
 },
 "nbformat": 4,
 "nbformat_minor": 2
}
