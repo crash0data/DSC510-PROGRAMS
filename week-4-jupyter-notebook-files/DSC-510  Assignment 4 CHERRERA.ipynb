{
 "cells": [
  {
   "cell_type": "markdown",
   "metadata": {},
   "source": [
    "# Assignment 4 - Statements and Syntax\n",
    "\n",
    "## Instructions\n",
    "\n",
    "In this assignment, we will continue working with the `avengers.csv`.  Copy over the `avengers_utf8.csv` you created in the last exercise to the working directory of this notebook. Open up `avengers_utf8.csv` and assign the lines to the `lines` variable. \n",
    "\n",
    "Follow the instructions for submitting a Jupyter Notebook assignment in the submitting assignments documentation. "
   ]
  },
  {
   "cell_type": "markdown",
   "metadata": {},
   "source": [
    "## 1. Convert lines to rows (5 points)\n",
    "\n",
    "Using a `for` statement, loop through the `lines` sequence and process each line into a row and add each processed row to the `rows` list.  For the purposes of this assignment, a row is a list of values that results from splitting each line by its delimiter (in this case a comma).  As an example, if the line input is `'1,2,apple,pear'`, then row output is `['1', '2', 'apple', 'pear']`.  Do not worry about converting values or cleaning up the input data at this point. \n",
    "\n",
    "\n",
    "<div class=\"alert alert-info\">\n",
    "**Note**: In this data set, there is one record that contains extra commas.  This happens when commas are used to separate the fields and commas are used within the some of the data values.  In this case, the `url` field for this record is `\"...Nicholas_Fury,_Jr._(Earth-616)#\"` and the `name_alias` field is `\"Nicholas Fury, Jr., Marcus Johnson\"`. These values are both enclosed with quote characters, which means we should not treat the commas inside the quotes as field separators.  In later assignments, we will implement code to handle escaped commas, but for now we will ignore this field.   \n",
    "</div>\n",
    "\n",
    "A normal row should contain 21 values.  Only add a row to the `rows` list if it contains 21 values. "
   ]
  },
  {
   "cell_type": "code",
   "execution_count": 4,
   "metadata": {},
   "outputs": [
    {
     "data": {
      "text/plain": [
       "173"
      ]
     },
     "execution_count": 4,
     "metadata": {},
     "output_type": "execute_result"
    }
   ],
   "source": [
    "with open('avengers_utf8.csv') as f:\n",
    "    lines = f.readlines()\n",
    "    \n",
    "rows = []\n",
    "\n",
    "for line in lines:\n",
    "    row = line.split(',') \n",
    "    if len(row) == 21:    \n",
    "        rows.append(row)\n",
    "len(rows)\n",
    "    "
   ]
  },
  {
   "cell_type": "markdown",
   "metadata": {},
   "source": [
    "## 2. Create a header with Python friendly names (5 points)\n",
    "\n",
    "In the second step, create a header with Python friendly names.  These names will be used to create a dictionary based record.  When creating the names, convert the original name to a new name using the following rules.  Assign the new header names to the `fieldnames` variable.  \n",
    "\n",
    "1. The new name should only use lower case letters, numbers, and underscores.\n",
    "2. Replace spaces and slashes with underscores. \n",
    "3. Strip trailing question marks and newlines.  "
   ]
  },
  {
   "cell_type": "code",
   "execution_count": 8,
   "metadata": {},
   "outputs": [
    {
     "data": {
      "text/plain": [
       "['url',\n",
       " 'name_alias',\n",
       " 'appearances',\n",
       " 'current',\n",
       " 'gender',\n",
       " 'probationary_introl',\n",
       " 'full_reserve_avengers_intro',\n",
       " 'year',\n",
       " 'years_since_joining',\n",
       " 'honorary',\n",
       " 'death1',\n",
       " 'return1',\n",
       " 'death2',\n",
       " 'return2',\n",
       " 'death3',\n",
       " 'return3',\n",
       " 'death4',\n",
       " 'return4',\n",
       " 'death5',\n",
       " 'return5',\n",
       " 'notes']"
      ]
     },
     "execution_count": 8,
     "metadata": {},
     "output_type": "execute_result"
    }
   ],
   "source": [
    "# If I use the print to retrieve the info it will return the data like a paragraph vs a list form\n",
    "header = rows[0]\n",
    "\n",
    "fieldnames = []\n",
    "\n",
    "for name in header:\n",
    "    new_name = name.lower()\n",
    "    new_name = new_name.strip('\\n').strip('?')\n",
    "    new_name = new_name.replace('/', '_').replace(' ', '_')\n",
    "      \n",
    "    fieldnames.append(new_name)\n",
    "\n",
    "(fieldnames)\n",
    "    "
   ]
  },
  {
   "cell_type": "markdown",
   "metadata": {},
   "source": [
    "## 3. Create dict-based records (10 points)\n",
    "\n",
    "Using the `fieldnames` and `rows` variables from the last two parts, create `records` which contain Python dictionaries with the field names assigned to the appropriate values. "
   ]
  },
  {
   "cell_type": "code",
   "execution_count": 12,
   "metadata": {},
   "outputs": [
    {
     "data": {
      "text/plain": [
       "{'url': 'http://marvel.wikia.com/Henry_Pym_(Earth-616)',\n",
       " 'name_alias': '\"Henry Jonathan \"\"Hank\"\" Pym\"',\n",
       " 'appearances': '1269',\n",
       " 'current': 'YES',\n",
       " 'gender': 'MALE',\n",
       " 'probationary_introl': '',\n",
       " 'full_reserve_avengers_intro': 'Sep-63',\n",
       " 'year': '1963',\n",
       " 'years_since_joining': '52',\n",
       " 'honorary': 'Full',\n",
       " 'death1': 'YES',\n",
       " 'return1': 'NO',\n",
       " 'death2': '',\n",
       " 'return2': '',\n",
       " 'death3': '',\n",
       " 'return3': '',\n",
       " 'death4': '',\n",
       " 'return4': '',\n",
       " 'death5': '',\n",
       " 'return5': '',\n",
       " 'notes': 'Merged with Ultron in Rage of Ultron Vol. 1. A funeral was held.\\n'}"
      ]
     },
     "execution_count": 12,
     "metadata": {},
     "output_type": "execute_result"
    }
   ],
   "source": [
    "records = []  \n",
    "\n",
    "for row in rows[1:]:\n",
    "    record = {} \n",
    "    for field, value in zip(fieldnames, row):\n",
    "        record[field] = value\n",
    "\n",
    "    records.append(record)\n",
    "records[0]\n"
   ]
  },
  {
   "cell_type": "markdown",
   "metadata": {},
   "source": [
    "## 4. Convert record values to appropriate types (10 points)\n",
    "\n",
    "Using a for loop, iterate through each record and convert each record value to the appropriate type.  Additionally, make sure to update the `years_since_joining` value to the current year. If the value does not need to be converted, strip any trailing spaces or newlines. "
   ]
  },
  {
   "cell_type": "code",
   "execution_count": 13,
   "metadata": {},
   "outputs": [
    {
     "data": {
      "text/plain": [
       "55"
      ]
     },
     "execution_count": 13,
     "metadata": {},
     "output_type": "execute_result"
    }
   ],
   "source": [
    "# if it is a yes or no question, this should be a boolen type\n",
    "# if it is a number, this should be an integer value\n",
    "\n",
    "for record in records:\n",
    "    for key, value in record.items():\n",
    "        if key.startswith('death'):\n",
    "            if value == 'YES':\n",
    "                record[key] = True\n",
    "            elif value == 'NO':\n",
    "                record[key] = False\n",
    "        elif key.startswith('return'):\n",
    "            if value == 'YES':\n",
    "                record[key] = True\n",
    "            elif value == 'NO':\n",
    "                record[key] = False\n",
    "        elif key.startswith('current'):\n",
    "            if value == 'YES':\n",
    "                record[key] = True\n",
    "            elif value == 'NO':\n",
    "                record[key] = False\n",
    "        elif key in ['year', 'appearances']:\n",
    "            record[key] = int(value)\n",
    "        else:\n",
    "            record[key] = value.strip()\n",
    "            \n",
    "for record in records:\n",
    "    record['years_since_joining'] = 2018 - record['year']\n",
    "    \n",
    "records[0]['years_since_joining']"
   ]
  },
  {
   "cell_type": "markdown",
   "metadata": {},
   "source": [
    "# 5. Filtering Records (10 points)\n",
    "\n",
    "Using a list comprehension, get the records for those Avengers with over 3000 appearances. Assign the output to the `over3000` variable. \n",
    "\n",
    "Use this to print the name and number of appearances for those Avengers.  When printing the names, some names may contain extra quotes.  Strip the `\"` around the entire name and replace double quotes (`\"\"`) with a single quote (`\"`)."
   ]
  },
  {
   "cell_type": "code",
   "execution_count": 15,
   "metadata": {},
   "outputs": [
    {
     "name": "stdout",
     "output_type": "stream",
     "text": [
      "3068: Anthony Edward \"Tony\" Stark\n",
      "3458: Steven Rogers\n",
      "4333: Peter Benjamin Parker\n",
      "3130: James \"Logan\" Howlett\n"
     ]
    }
   ],
   "source": [
    "# GO THROUGH EACH RECORD\n",
    "    # if that record has record[appearances] > 3000\n",
    "    # send to an accumlator\n",
    "over3000 = [record for record in records if record['appearances'] > 3000]\n",
    "\n",
    "for record in over3000:\n",
    "    print('{}: {}'.format(record['appearances'], record['name_alias'].strip('\"').replace('\"\"', '\"')))"
   ]
  }
 ],
 "metadata": {
  "kernelspec": {
   "display_name": "Python 3",
   "language": "python",
   "name": "python3"
  },
  "language_info": {
   "codemirror_mode": {
    "name": "ipython",
    "version": 3
   },
   "file_extension": ".py",
   "mimetype": "text/x-python",
   "name": "python",
   "nbconvert_exporter": "python",
   "pygments_lexer": "ipython3",
   "version": "3.6.5"
  }
 },
 "nbformat": 4,
 "nbformat_minor": 2
}
