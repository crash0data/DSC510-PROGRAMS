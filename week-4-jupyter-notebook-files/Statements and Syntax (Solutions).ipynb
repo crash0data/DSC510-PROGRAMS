{
 "cells": [
  {
   "cell_type": "markdown",
   "metadata": {},
   "source": [
    "# Assignment 4 - Statements and Syntax\n"
   ]
  },
  {
   "cell_type": "markdown",
   "metadata": {},
   "source": [
    "## 1. Convert lines to rows\n",
    "\n",
    "* 1 point for attempting the problem\n",
    "* 1 point for code that reads lines from file\n",
    "* 1 point for code that creates rows from the lines\n",
    "* 1 point for correctly excluding rows with more than 21 values\n",
    "* 1 point for code with correct answer"
   ]
  },
  {
   "cell_type": "code",
   "execution_count": 1,
   "metadata": {},
   "outputs": [
    {
     "data": {
      "text/plain": [
       "173"
      ]
     },
     "execution_count": 1,
     "metadata": {},
     "output_type": "execute_result"
    }
   ],
   "source": [
    "with open('avengers_utf8.csv') as f:\n",
    "    lines = f.readlines()\n",
    "    \n",
    "rows = []\n",
    "\n",
    "for line in lines:\n",
    "    row = line.split(',')\n",
    "    if len(row) == 21:\n",
    "        rows.append(row)\n",
    "        \n",
    "len(rows)"
   ]
  },
  {
   "cell_type": "markdown",
   "metadata": {},
   "source": [
    "## 2. Create a header with Python friendly names (5 points)\n",
    "\n",
    "* 1 point for attempting the problem\n",
    "* 1 point for correctly reading the header from the first row\n",
    "* 1 point for code that attempts to strip and replace values\n",
    "* 1 point for code that attempts to generate lower case names\n",
    "* 1 point for producing correct header"
   ]
  },
  {
   "cell_type": "code",
   "execution_count": 2,
   "metadata": {},
   "outputs": [
    {
     "data": {
      "text/plain": [
       "['url',\n",
       " 'name_alias',\n",
       " 'appearances',\n",
       " 'current',\n",
       " 'gender',\n",
       " 'probationary_introl',\n",
       " 'full_reserve_avengers_intro',\n",
       " 'year',\n",
       " 'years_since_joining',\n",
       " 'honorary',\n",
       " 'death1',\n",
       " 'return1',\n",
       " 'death2',\n",
       " 'return2',\n",
       " 'death3',\n",
       " 'return3',\n",
       " 'death4',\n",
       " 'return4',\n",
       " 'death5',\n",
       " 'return5',\n",
       " 'notes']"
      ]
     },
     "execution_count": 2,
     "metadata": {},
     "output_type": "execute_result"
    }
   ],
   "source": [
    "header = rows[0]\n",
    "fieldnames = []\n",
    "\n",
    "for name in header:\n",
    "    new_name = name.lower()\n",
    "    new_name = new_name.strip('\\n').strip('?')\n",
    "    new_name = new_name.replace('/', '_').replace(' ', '_')\n",
    "    fieldnames.append(new_name)\n",
    "    \n",
    "fieldnames"
   ]
  },
  {
   "cell_type": "markdown",
   "metadata": {},
   "source": [
    "## 3. Create dict-based records\n",
    "\n",
    "* 2 points for attempting problem\n",
    "* 2 points for using the new fieldnames from the last problem regardless of whether or not they were correct\n",
    "* 1 point for excluding header row in output records\n",
    "* 2 points for creating dictionary based records regardless of whether they are correct\n",
    "* 3 points for fully correct code"
   ]
  },
  {
   "cell_type": "code",
   "execution_count": 3,
   "metadata": {},
   "outputs": [
    {
     "data": {
      "text/plain": [
       "{'appearances': '1269',\n",
       " 'current': 'YES',\n",
       " 'death1': 'YES',\n",
       " 'death2': '',\n",
       " 'death3': '',\n",
       " 'death4': '',\n",
       " 'death5': '',\n",
       " 'full_reserve_avengers_intro': 'Sep-63',\n",
       " 'gender': 'MALE',\n",
       " 'honorary': 'Full',\n",
       " 'name_alias': '\"Henry Jonathan \"\"Hank\"\" Pym\"',\n",
       " 'notes': 'Merged with Ultron in Rage of Ultron Vol. 1. A funeral was held. \\n',\n",
       " 'probationary_introl': '',\n",
       " 'return1': 'NO',\n",
       " 'return2': '',\n",
       " 'return3': '',\n",
       " 'return4': '',\n",
       " 'return5': '',\n",
       " 'url': 'http://marvel.wikia.com/Henry_Pym_(Earth-616)',\n",
       " 'year': '1963',\n",
       " 'years_since_joining': '52'}"
      ]
     },
     "execution_count": 3,
     "metadata": {},
     "output_type": "execute_result"
    }
   ],
   "source": [
    "records = []\n",
    "\n",
    "for row in rows[1:]:\n",
    "    record = {}\n",
    "    for field, value in zip(fieldnames, row):\n",
    "        record[field] = value\n",
    "    \n",
    "    records.append(record)\n",
    "    \n",
    "records[0]"
   ]
  },
  {
   "cell_type": "markdown",
   "metadata": {},
   "source": [
    "## 4. Convert record values to appropriate types\n",
    "\n",
    "* 1 point for attempting the problem\n",
    "* 1.5 points for converting integer fields (year, appearances)\n",
    "* 1.5 points for converting boolean fields (returns, deaths, current)\n",
    "* 2 points for stripping trailing spaces and newlines from notes\n",
    "* 2 points for adding `years_since_joined`.  \n",
    "* 2 points for fully correct answer"
   ]
  },
  {
   "cell_type": "code",
   "execution_count": 4,
   "metadata": {},
   "outputs": [
    {
     "data": {
      "text/plain": [
       "55"
      ]
     },
     "execution_count": 4,
     "metadata": {},
     "output_type": "execute_result"
    }
   ],
   "source": [
    "for record in records:\n",
    "    for key, value in record.items():\n",
    "        if key.startswith('death'):\n",
    "            if value == 'YES':\n",
    "                record[key] = True\n",
    "            elif value == 'NO':\n",
    "                record[key] = False\n",
    "        elif key.startswith('return'):\n",
    "            if value == 'YES':\n",
    "                record[key] = True\n",
    "            elif value == 'NO':\n",
    "                record[key] = False\n",
    "        elif key.startswith('current'):\n",
    "            if value == 'YES':\n",
    "                record[key] = True\n",
    "            elif value == 'NO':\n",
    "                record[key] = False\n",
    "        elif key in ['year', 'appearances']:\n",
    "            record[key] = int(value)\n",
    "        else:\n",
    "            record[key] = value.strip()\n",
    "            \n",
    "for record in records:\n",
    "    record['years_since_joining'] = 2018 - record['year']\n",
    "    \n",
    "records[0]['years_since_joining']"
   ]
  },
  {
   "cell_type": "markdown",
   "metadata": {},
   "source": [
    "# 5. Filtering Records\n",
    "\n",
    "* 2 points for attempting the problem\n",
    "* 2 points for printing out output\n",
    "* 2 points for replacing double quotes and stripping extra quotes\n",
    "* 2 points for filtering the records by number of appearances\n",
    "* 2 points for correct code and outputs"
   ]
  },
  {
   "cell_type": "code",
   "execution_count": 5,
   "metadata": {},
   "outputs": [
    {
     "name": "stdout",
     "output_type": "stream",
     "text": [
      "3068: Anthony Edward \"Tony\" Stark\n",
      "3458: Steven Rogers\n",
      "4333: Peter Benjamin Parker\n",
      "3130: James \"Logan\" Howlett\n"
     ]
    }
   ],
   "source": [
    "over3000 = [record for record in records if record['appearances'] > 3000]\n",
    "\n",
    "for record in over3000:\n",
    "    print('{}: {}'.format(record['appearances'], record['name_alias'].strip('\"').replace('\"\"', '\"')))"
   ]
  }
 ],
 "metadata": {
  "kernelspec": {
   "display_name": "Python 3",
   "language": "python",
   "name": "python3"
  },
  "language_info": {
   "codemirror_mode": {
    "name": "ipython",
    "version": 3
   },
   "file_extension": ".py",
   "mimetype": "text/x-python",
   "name": "python",
   "nbconvert_exporter": "python",
   "pygments_lexer": "ipython3",
   "version": "3.6.5"
  }
 },
 "nbformat": 4,
 "nbformat_minor": 2
}
