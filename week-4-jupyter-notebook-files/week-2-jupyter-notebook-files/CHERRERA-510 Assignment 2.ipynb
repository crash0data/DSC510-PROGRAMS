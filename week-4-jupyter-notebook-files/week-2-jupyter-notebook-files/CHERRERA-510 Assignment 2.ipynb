{
 "cells": [
  {
   "cell_type": "markdown",
   "metadata": {},
   "source": [
    "# Assignment 2 - Simple Types\n",
    "\n",
    "## Instructions\n",
    "\n",
    "Follow the instructions for submitting a Jupyter Notebook assignment in the submitting assignments documentation. "
   ]
  },
  {
   "cell_type": "markdown",
   "metadata": {},
   "source": [
    "## 1. Numeric Operations (20 Points)\n",
    "\n",
    "```python\n",
    "a = 402\n",
    "b = 1855\n",
    "\n",
    "x = 41.151309\n",
    "y = -95.919741\n",
    "```\n",
    "\n",
    "Given the preceding variable definitions, answer complete the questions below. \n",
    "\n",
    "a. Compute the absolute value of `y`\n",
    "\n",
    "b. Add `x` and `y` and multiple the result by `a`\n",
    "\n",
    "c. Calculate the remainder leftover after dividing `b` by `a` (i.e. `b/a`)\n",
    "\n",
    "d. Calculate `a` to the power of `3`\n",
    "\n",
    "e. Show how to convert `a` to a floating point number\n",
    "\n",
    "f. Multiple `x` by `y` and round the result to two signficant digits\n",
    "\n",
    "g. Compute the bitwise *or* of `a` and `b`\n",
    "\n",
    "h. Compute `x` divided by negative `y` \n",
    "\n",
    "i. Compute `a` added to `b` divided by `x` minus `y`\n",
    "\n",
    "j. Compute the floored quotient of `b` and `x`"
   ]
  },
  {
   "cell_type": "code",
   "execution_count": 4,
   "metadata": {},
   "outputs": [
    {
     "name": "stdout",
     "output_type": "stream",
     "text": [
      "Absolute value of -95.919741 is: 95.919741\n"
     ]
    }
   ],
   "source": [
    "# a. Compute the absolute value of y\n",
    "\n",
    "floating = -95.919741\n",
    "print('Absolute value of -95.919741 is:', abs(floating))\n"
   ]
  },
  {
   "cell_type": "code",
   "execution_count": 5,
   "metadata": {},
   "outputs": [
    {
     "name": "stdout",
     "output_type": "stream",
     "text": [
      "-22016.909664000003\n"
     ]
    }
   ],
   "source": [
    "# b. Add x and y and multiple the result by a\n",
    "a = 402\n",
    "x = 41.151309\n",
    "y = -95.919741\n",
    "\n",
    "print ((x+y)*a)\n"
   ]
  },
  {
   "cell_type": "code",
   "execution_count": 9,
   "metadata": {},
   "outputs": [
    {
     "name": "stdout",
     "output_type": "stream",
     "text": [
      "4.614427860696518\n",
      "4\n"
     ]
    }
   ],
   "source": [
    "# c. Calculate the remainder leftover after dividing b by a (i.e. b/a)\n",
    "a = 402\n",
    "b = 1855\n",
    "\n",
    "print(b/a) # will return a floating point number\n",
    "print(b//a) # returns an integer \n"
   ]
  },
  {
   "cell_type": "code",
   "execution_count": 10,
   "metadata": {},
   "outputs": [
    {
     "name": "stdout",
     "output_type": "stream",
     "text": [
      "64964808\n"
     ]
    }
   ],
   "source": [
    "# d. Calculate a to the power of 3\n",
    "a = 402\n",
    "print(a**3)"
   ]
  },
  {
   "cell_type": "code",
   "execution_count": 13,
   "metadata": {},
   "outputs": [
    {
     "name": "stdout",
     "output_type": "stream",
     "text": [
      "<class 'int'>\n",
      "402.0\n"
     ]
    }
   ],
   "source": [
    "# e. Show how to convert a to a floating point number\n",
    "a = 402\n",
    "print(type(a)) #verify data type\n",
    "print(a/1) # if you divide the integer by 1 it will convert it to floating point number "
   ]
  },
  {
   "cell_type": "code",
   "execution_count": 19,
   "metadata": {},
   "outputs": [
    {
     "name": "stdout",
     "output_type": "stream",
     "text": [
      "-3947.2229010909687\n",
      "-3947.22\n"
     ]
    }
   ],
   "source": [
    "# f. Multiple x by y and round the result to two signficant digits\n",
    "x = 41.151309\n",
    "y = -95.919741\n",
    "\n",
    "total = x * y\n",
    "\n",
    "print (total)\n",
    "print(round(total,2))"
   ]
  },
  {
   "cell_type": "code",
   "execution_count": 20,
   "metadata": {},
   "outputs": [
    {
     "name": "stdout",
     "output_type": "stream",
     "text": [
      "1983\n"
     ]
    }
   ],
   "source": [
    "# g. Compute the bitwise or of a and b\n",
    "a = 402\n",
    "b = 1855\n",
    "print(a | b)  # compute bitwise OR, which is set union"
   ]
  },
  {
   "cell_type": "code",
   "execution_count": 22,
   "metadata": {},
   "outputs": [
    {
     "name": "stdout",
     "output_type": "stream",
     "text": [
      "0.4290181413229629\n"
     ]
    }
   ],
   "source": [
    "# h. Compute x divided by negative y\n",
    "\n",
    "x = 41.151309\n",
    "y = -95.919741\n",
    "\n",
    "print(x / -y) # by dividing by negative y it returns a positive number"
   ]
  },
  {
   "cell_type": "code",
   "execution_count": 23,
   "metadata": {},
   "outputs": [
    {
     "name": "stdout",
     "output_type": "stream",
     "text": [
      "542.9972864068789\n"
     ]
    }
   ],
   "source": [
    "# i. Compute a added to b divided by x minus y\n",
    "a = 402\n",
    "b = 1855\n",
    "\n",
    "x = 41.151309\n",
    "y = -95.919741\n",
    "\n",
    "print(a + b / x - y)"
   ]
  },
  {
   "cell_type": "code",
   "execution_count": 25,
   "metadata": {},
   "outputs": [
    {
     "name": "stdout",
     "output_type": "stream",
     "text": [
      "45.0\n"
     ]
    }
   ],
   "source": [
    "# j. Compute the floored quotient of b and x\n",
    "a = 402\n",
    "b = 1855\n",
    "\n",
    "x = 41.151309\n",
    "y = -95.919741\n",
    "\n",
    "print(b//x)"
   ]
  },
  {
   "cell_type": "markdown",
   "metadata": {},
   "source": [
    "## 2. Integer Division (2 Points)\n",
    "\n",
    "What is the difference between dividing using the `//` operator and the `/` operator?  For instance, what is the difference between `4/2` and `4//2`? "
   ]
  },
  {
   "cell_type": "code",
   "execution_count": 26,
   "metadata": {},
   "outputs": [
    {
     "name": "stdout",
     "output_type": "stream",
     "text": [
      "2.0\n",
      "2\n"
     ]
    }
   ],
   "source": [
    "# difference division returns a floating point number by default unless you use the // operator.\n",
    "\n",
    "print(4/2) # will return a floating point number\n",
    "print(4//2) # // is floored quotient where it returns an integer \n",
    "\n"
   ]
  },
  {
   "cell_type": "markdown",
   "metadata": {},
   "source": [
    "## 3. Number Representations (4 Points)\n",
    "\n",
    "Pick an integer number between 33 and 126.  Print the following information about this number. \n",
    "\n",
    "1. Its binary representation\n",
    "2. Its hexadecimal representation\n",
    "3. Its octal representation\n",
    "4. The character corresponding to its Unicode point code. "
   ]
  },
  {
   "cell_type": "code",
   "execution_count": 34,
   "metadata": {},
   "outputs": [
    {
     "name": "stdout",
     "output_type": "stream",
     "text": [
      "0b101010 in binary.\n"
     ]
    }
   ],
   "source": [
    "# Its binary representation\n",
    "int = 42\n",
    "\n",
    "print(bin(int),\"in binary.\")"
   ]
  },
  {
   "cell_type": "code",
   "execution_count": 35,
   "metadata": {},
   "outputs": [
    {
     "name": "stdout",
     "output_type": "stream",
     "text": [
      "0x2a in hexadecimal.\n"
     ]
    }
   ],
   "source": [
    "# Its hexadecimal representation\n",
    "int = 42\n",
    "\n",
    "print(hex(int),\"in hexadecimal.\")"
   ]
  },
  {
   "cell_type": "code",
   "execution_count": 37,
   "metadata": {},
   "outputs": [
    {
     "name": "stdout",
     "output_type": "stream",
     "text": [
      "0o52 in octal.\n"
     ]
    }
   ],
   "source": [
    "# Its octal representation\n",
    "int = 42\n",
    "\n",
    "print(oct(int),\"in octal.\")"
   ]
  },
  {
   "cell_type": "code",
   "execution_count": 45,
   "metadata": {},
   "outputs": [
    {
     "name": "stdout",
     "output_type": "stream",
     "text": [
      "b'42'\n",
      "b'\\xff\\xfe4\\x002\\x00'\n"
     ]
    }
   ],
   "source": [
    "# The character corresponding to its Unicode point code.\n",
    "\n",
    "print('42'.encode('utf8'))  # Encoded to 4 bytes in UTF-8 \n",
    "print('42'.encode('utf16'))  # Encoded to 10 bytes in UTF-16 \n"
   ]
  },
  {
   "cell_type": "markdown",
   "metadata": {},
   "source": [
    "\n",
    "## 4. Variable Assignment (4 Points)\n",
    "\n",
    "Consider the following two Python code examples. In both cases, we assign a value to variable `a`, assign variable `b` to `a` and then make changes variable `a`.  Why is it that in the first example, changes to `a` do not affect `b`, but in the second example they do? \n",
    "\n",
    "*Example 1:* \n",
    "```python\n",
    "In [1]:   a = 1\n",
    "          b = a\n",
    "          a += 1\n",
    "          print(b)\n",
    "   \n",
    "Out [1]:  1\n",
    "```\n",
    "\n",
    "*Example 2:* \n",
    "```python\n",
    "In [2]:   a = [1, 2, 3]\n",
    "          b = a\n",
    "          a.append(4)\n",
    "          print(b)\n",
    "   \n",
    "Out [2]:  [1, 2, 3, 4]\n",
    "```"
   ]
  },
  {
   "cell_type": "code",
   "execution_count": 50,
   "metadata": {},
   "outputs": [
    {
     "name": "stdout",
     "output_type": "stream",
     "text": [
      "4\n"
     ]
    }
   ],
   "source": [
    "# Example 1, variables like these are replaced with their values whenever they’re used inside an expression \n",
    "\n",
    "a = 4  # We can increment a variable by any number we like.\n",
    "b = a\n",
    "a += 1 # this shorthand operator += is equivalent to a = a +1\n",
    "print(b) \n"
   ]
  },
  {
   "cell_type": "code",
   "execution_count": 47,
   "metadata": {},
   "outputs": [
    {
     "name": "stdout",
     "output_type": "stream",
     "text": [
      "[1, 2, 3, 4]\n"
     ]
    }
   ],
   "source": [
    "# Example 2, variables are being added to the list versus being sum up\n",
    "\n",
    "a = [1, 2, 3]\n",
    "b = a\n",
    "a.append(4) # a new item with value a to the end of the array.\n",
    "print(b)"
   ]
  },
  {
   "cell_type": "markdown",
   "metadata": {},
   "source": [
    "## 5.  Dynamic Typing (6 Points)\n",
    "\n",
    "Static typing vs. dynamic typing is one of computer programmings most bitter \"[holy wars](http://wiki.c2.com/?HolyWar)'.  As a data scientist, it is important to understand the difference between static and dynamic typing and the pros/cons of each approach.  \n",
    "\n",
    "Answer each of the following questions in your own words.  \n",
    "\n",
    "a.  What is the difference between static and dynamic typing? \n",
    "\n",
    "b.   What are the benefits of static typing over dynamic typing? \n",
    "\n",
    "c.   What are the benefits of dynamic typing over static typing? "
   ]
  },
  {
   "cell_type": "markdown",
   "metadata": {},
   "source": [
    "Static typing is when your type checking occurs at compile time. You must define a type for your variables inside of your code and any operations you perform on your data would be checked by the compiler.\n",
    "\n",
    "Dynamic typing is when your type checking occurs at runtime. Instead of errors coming up when you compile your code you will get runtime errors if you try performing operations on incompatible types. However, you will get the benefit of having more versatile functions as they can be written once for multiple data types. Benefits over Static: More succinct/less verbose and you spend less time debugging syntax and semantic errors.\n",
    "\n",
    "Static typing catches errors early, instead of finding them during execution (especially useful for long programs). It’s more “strict” in that it won’t allow for type errors anywhere in your program and often prevents variables from changing types, which further defends against unintended errors. Dynamic typing is more flexible (which some appreciate) but allows for variables to change types (sometimes creating unexpected errors).  Draw back of static: Like any formalism, types require some investment up front to become fluent in. Some tasks, especially around generic programming, can be very easily expressed in a dynamic language, but require more machinery in a static language. \n",
    "\n",
    "\n",
    "Static pros: can ease the mental burden of writing programs, by automatically tracking information the programmer would otherwise have to track mentally in some fashion.\n",
    "More errors detected earlier in development, fewer errors at runtime and in shipped code and no need to write entirely mechanical tests for type correctness.\n",
    "\n",
    "DYNAMIC PROS:\n",
    "Deals naturally with certain types of self-describing data, code can be use polymorphically without programmer decoration and tends to reduce unnecessary clutter and duplication/repetition in code.\n"
   ]
  },
  {
   "cell_type": "markdown",
   "metadata": {},
   "source": [
    "## 6. Garbage Collection (4 Points)\n",
    "\n",
    "a. Explain what *garbage collection* means in connection to programming languages.\n",
    "\n",
    "b. How does CPython implement garbage collection? "
   ]
  },
  {
   "cell_type": "markdown",
   "metadata": {},
   "source": [
    "Python garbage collection feature cleans up unused memory as your program runs and frees you from having to manage such details in your code.  The space is reclaimed immediately, as soon as the last reference to an object is removed. Unfortunately, classical reference counting has a fundamental problem — it cannot detect reference cycles.  \n",
    "\n",
    "CPython uses a threshold based garbage collector. This means actual gc will happen only when some object thresholds are met. An explicit call to gc.collect will release the memory. Standard CPython's garbage collector has two components, the reference counting collector and the generational garbage collector, known as gc module. The reference counting algorithm is incredibly efficient and straightforward, but it cannot detect reference cycles. That is why Python has a supplemental algorithm called generational cyclic GC, that deals with reference cycles. The reference counting is fundamental to Python and can't be disabled, whereas the cyclic GC is optional and can be used manually."
   ]
  }
 ],
 "metadata": {
  "kernelspec": {
   "display_name": "Python 3",
   "language": "python",
   "name": "python3"
  },
  "language_info": {
   "codemirror_mode": {
    "name": "ipython",
    "version": 3
   },
   "file_extension": ".py",
   "mimetype": "text/x-python",
   "name": "python",
   "nbconvert_exporter": "python",
   "pygments_lexer": "ipython3",
   "version": "3.6.5"
  }
 },
 "nbformat": 4,
 "nbformat_minor": 2
}
